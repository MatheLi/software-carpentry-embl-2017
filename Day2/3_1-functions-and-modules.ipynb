{
 "cells": [
  {
   "cell_type": "markdown",
   "metadata": {},
   "source": [
    "# Python session - 3.1\n",
    "\n",
    "## Functions and modules\n",
    "\n",
    "`Pandas` cheat sheet: https://github.com/pandas-dev/pandas/blob/master/doc/cheatsheet/Pandas_Cheat_Sheet.pdf\n",
    "\n",
    "Software Carpentry reference files: http://tobyhodges.github.io/python-novice-gapminder/"
   ]
  },
  {
   "cell_type": "markdown",
   "metadata": {
    "collapsed": true
   },
   "source": [
    "## Functions\n",
    "\n",
    "Functions are reusable blocks of code that you can name and execute any number of times from different parts of your script(s). This reuse is known as \"calling\" the function. Functions are important building blocks of a software.\n",
    "\n",
    "There are several built-in functions of Python, which can be called anywhere (and any number of times) in your current program. You have been using built-in functions already, for example, `len()`, `range()`, `sorted()`, `max()`, `min()`, `sum()` etc."
   ]
  },
  {
   "cell_type": "markdown",
   "metadata": {},
   "source": [
    "#### Structure of writing a function:\n",
    "\n",
    "- `def` (keyword) + function name (you choose) + `()`.\n",
    "- newline with 4 spaces or a tab +  block of code # Note: Codes at the 0 position are always read\n",
    "- Call your function using its name"
   ]
  },
  {
   "cell_type": "code",
   "execution_count": null,
   "metadata": {
    "collapsed": true
   },
   "outputs": [],
   "source": [
    "# Examples of the functions that you have alreasy know, i.e. print(), len(), max(), min()\n",
    "\n",
    "myvar = 'something'\n",
    "print(myvar)\n",
    "print(len(myvar))\n",
    "print(list(myvar))\n",
    "print(max([12,23,45,67]))"
   ]
  },
  {
   "cell_type": "code",
   "execution_count": 2,
   "metadata": {
    "collapsed": false
   },
   "outputs": [
    {
     "name": "stdout",
     "output_type": "stream",
     "text": [
      "154\n",
      "5780\n",
      "154\n"
     ]
    }
   ],
   "source": [
    "## Non parametric function\n",
    "# Define a function that prints a sum of number1 and number2 defined inside the function\n",
    "\n",
    "def get_sum():\n",
    "    a = 98\n",
    "    b = 56\n",
    "    sum_this = a+b\n",
    "    print(sum_this)\n",
    "get_sum()\n",
    "\n",
    "def get_sum2():\n",
    "    c = 90\n",
    "    d = 5690\n",
    "    sum_this2 = c+d\n",
    "    print(sum_this2)\n",
    "get_sum2()\n",
    "get_sum() #calling the first function again"
   ]
  },
  {
   "cell_type": "code",
   "execution_count": 3,
   "metadata": {
    "collapsed": false
   },
   "outputs": [
    {
     "name": "stdout",
     "output_type": "stream",
     "text": [
      "154\n",
      "5780\n"
     ]
    }
   ],
   "source": [
    "# Parametric function\n",
    "# Define a function that prints a sum of number1 and number2 provided by the user\n",
    "# Hint: get_sum_param(number1, number2)\n",
    "\n",
    "def get_sum_param(number1, number2):\n",
    "    sum_this = number1 + number2\n",
    "    print(sum_this)\n",
    "    \n",
    "a = 98\n",
    "b = 56\n",
    "get_sum_param(a, b)\n",
    "\n",
    "c = 90\n",
    "d = 5690\n",
    "get_sum_param(c, d)"
   ]
  },
  {
   "cell_type": "code",
   "execution_count": 4,
   "metadata": {
    "collapsed": false
   },
   "outputs": [
    {
     "name": "stdout",
     "output_type": "stream",
     "text": [
      "154 5780\n",
      "5780.0\n"
     ]
    }
   ],
   "source": [
    "# Returning values\n",
    "# Define a function that 'returns' a sum of number1 and number2 provided by the user\n",
    "# Hint: print(get_sum_param(number1, number2))\n",
    "\n",
    "def get_sum_param(number1, number2):\n",
    "    sum_this = number1 + number2\n",
    "    return sum_this\n",
    "\n",
    "a = 98\n",
    "b = 56\n",
    "val_ab = get_sum_param(a, b)\n",
    "\n",
    "c = 90\n",
    "d = 5690\n",
    "val_cd = get_sum_param(c, d)\n",
    "\n",
    "print(val_ab, val_cd)\n",
    "print(val_ab * val_cd/val_ab) # do more operations on the variables"
   ]
  },
  {
   "cell_type": "code",
   "execution_count": 5,
   "metadata": {
    "collapsed": false
   },
   "outputs": [
    {
     "name": "stdout",
     "output_type": "stream",
     "text": [
      "(154, 6943)\n"
     ]
    },
    {
     "ename": "NameError",
     "evalue": "name 'number3' is not defined",
     "output_type": "error",
     "traceback": [
      "\u001b[0;31m---------------------------------------------------------------------------\u001b[0m",
      "\u001b[0;31mNameError\u001b[0m                                 Traceback (most recent call last)",
      "\u001b[0;32m<ipython-input-5-d46e649bbf9c>\u001b[0m in \u001b[0;36m<module>\u001b[0;34m()\u001b[0m\n\u001b[1;32m     14\u001b[0m \u001b[0mreturned_values\u001b[0m \u001b[0;34m=\u001b[0m \u001b[0mget_sum_param\u001b[0m\u001b[0;34m(\u001b[0m\u001b[0ma\u001b[0m\u001b[0;34m,\u001b[0m \u001b[0mb\u001b[0m\u001b[0;34m)\u001b[0m\u001b[0;34m\u001b[0m\u001b[0m\n\u001b[1;32m     15\u001b[0m \u001b[0mprint\u001b[0m\u001b[0;34m(\u001b[0m\u001b[0mreturned_values\u001b[0m\u001b[0;34m)\u001b[0m\u001b[0;34m\u001b[0m\u001b[0m\n\u001b[0;32m---> 16\u001b[0;31m \u001b[0mprint\u001b[0m\u001b[0;34m(\u001b[0m\u001b[0ma\u001b[0m\u001b[0;34m,\u001b[0m \u001b[0mb\u001b[0m\u001b[0;34m,\u001b[0m \u001b[0mnumber3\u001b[0m\u001b[0;34m)\u001b[0m \u001b[0;31m# number3 is a local variable for the function, so it will not be recognised outside the function\u001b[0m\u001b[0;34m\u001b[0m\u001b[0m\n\u001b[0m",
      "\u001b[0;31mNameError\u001b[0m: name 'number3' is not defined"
     ]
    }
   ],
   "source": [
    "# Local Vs. global variable\n",
    "\n",
    "# Define a function that returns a sum of number1 and number2 to a variable\n",
    "# and print it after calling the function\n",
    "# Hint: returned_value = get_sum_param(number1, number2)\n",
    "\n",
    "def get_sum_param(number1, number2):\n",
    "    sum_this = number1 + number2\n",
    "    number3 = 6789\n",
    "    sum_this_too = sum_this + number3\n",
    "    return sum_this, sum_this_too\n",
    "a = 98\n",
    "b = 56\n",
    "returned_values = get_sum_param(a, b)\n",
    "print(returned_values)\n",
    "print(a, b, number3) # number3 is a local variable for the function, so it will not be recognised outside the function"
   ]
  },
  {
   "cell_type": "markdown",
   "metadata": {},
   "source": [
    "### Exercises: write old code into a function"
   ]
  },
  {
   "cell_type": "code",
   "execution_count": 13,
   "metadata": {
    "collapsed": false
   },
   "outputs": [
    {
     "name": "stdout",
     "output_type": "stream",
     "text": [
      "Not very Warm\n"
     ]
    }
   ],
   "source": [
    "# Optional exercise\n",
    "# Let’s take one of our older code blocks and write it in a function\n",
    "\n",
    "def check_temp_range():\n",
    "    temperature = 20 # define temperature inside the function\n",
    "    if temperature > 25 and temperature < 50:\n",
    "        print('Warm weather')\n",
    "    elif temperature <= 25:\n",
    "        print('Not very Warm')\n",
    "    elif temperature == 25:\n",
    "        print('Pleasant weather')\n",
    "    else:\n",
    "        print('I do not care about the weather')\n",
    "        \n",
    "check_temp_range()"
   ]
  },
  {
   "cell_type": "code",
   "execution_count": 14,
   "metadata": {
    "collapsed": false
   },
   "outputs": [
    {
     "name": "stdout",
     "output_type": "stream",
     "text": [
      "Not very Warm\n",
      "Warm weather\n"
     ]
    }
   ],
   "source": [
    "def check_temp_range_with_param(temperature):\n",
    "    if temperature > 25 and temperature < 50:\n",
    "        print('Warm weather')\n",
    "    elif temperature <= 25:\n",
    "        print('Not very Warm')\n",
    "    elif temperature == 25:\n",
    "        print('Pleasant weather')\n",
    "    else:\n",
    "        print('I do not care about the weather')\n",
    "        \n",
    "temperature_var = 20 # define temperature inside the function\n",
    "temperature_var2 = 35 # define temperature inside the function\n",
    "check_temp_range_with_param(temperature_var)\n",
    "check_temp_range_with_param(temperature_var2)"
   ]
  },
  {
   "cell_type": "code",
   "execution_count": 16,
   "metadata": {
    "collapsed": false
   },
   "outputs": [
    {
     "name": "stdout",
     "output_type": "stream",
     "text": [
      "Warm weather\n"
     ]
    }
   ],
   "source": [
    "def check_temp_range_with_more_param(temperature, upper_limit, lower_limit):\n",
    "    if temperature > lower_limit and temperature < upper_limit:\n",
    "        print('Warm weather')\n",
    "    elif temperature <= lower_limit:\n",
    "        print('Not very Warm')\n",
    "    elif temperature == lower_limit:\n",
    "        print('Pleasant weather')\n",
    "    elif temperature >= upper_limit:\n",
    "        print(\"It's too hot\")\n",
    "    else:\n",
    "        print('I do not care about the weather')\n",
    "        \n",
    "temperature_var = 20 # define temperature inside the function\n",
    "lower_limit = 15 # define temperature inside the function\n",
    "upper_limit = 45 # define temperature inside the function\n",
    "check_temp_range_with_more_param(temperature_var, upper_limit, lower_limit)"
   ]
  },
  {
   "cell_type": "markdown",
   "metadata": {},
   "source": [
    "### Libraries and Modules\n",
    "\n",
    "One of the great things about Python is the free availability of a _huge_ number of libraries (also called package) that can be imported into your code and (re)used. \n",
    "\n",
    "Modules contain functions for use by other programs and are developed with the aim of solving some particular problem or providing particular, often domain-specific, capabilities. A library is a collection of modules, but the terms are often used interchangeably, especially since many libraries only consist of a single module (so don’t worry if you mix them). \n",
    "\n",
    "In order to import a library, it must available on your system or should be installed.  \n",
    "\n",
    "A large number of libraries are already available for import in the standard distribution of Python: this is known as the standard library. If you installed the Anaconda distribution of Python, you have even more libraries already installed - mostly aimed at data science.\n",
    "\n",
    "Importing a library is easy:\n",
    "\n",
    "- Import (keyword) + library name, for example: \n",
    "    - `import os    # contains functions for interacting with the operating system`\n",
    "    - `import sys   # contains utilities to process command line arguments`\n",
    "\n",
    "More at: https://pypi.python.org/pypi"
   ]
  },
  {
   "cell_type": "code",
   "execution_count": 20,
   "metadata": {
    "collapsed": false
   },
   "outputs": [
    {
     "name": "stdout",
     "output_type": "stream",
     "text": [
      "/Users/sharan/Documents/SWC-EMBL/git_dir/gitrepo_master/software-carpentry-embl-2017/Day2\n"
     ]
    }
   ],
   "source": [
    "import os\n",
    "\n",
    "# Get current directory\n",
    "cwd = os.getcwd()\n",
    "print(cwd)"
   ]
  },
  {
   "cell_type": "code",
   "execution_count": null,
   "metadata": {
    "collapsed": true
   },
   "outputs": [],
   "source": [
    "# Make new directory\n",
    "os.mkdir('test_dir')"
   ]
  },
  {
   "cell_type": "code",
   "execution_count": 19,
   "metadata": {
    "collapsed": false
   },
   "outputs": [],
   "source": [
    "help(os)            # manual page created from the module's docstrings"
   ]
  },
  {
   "cell_type": "markdown",
   "metadata": {},
   "source": [
    "### Using loops to iterate through files in a directory"
   ]
  },
  {
   "cell_type": "code",
   "execution_count": 22,
   "metadata": {
    "collapsed": false
   },
   "outputs": [
    {
     "name": "stdout",
     "output_type": "stream",
     "text": [
      "asia_gdp_per_capita.csv\n",
      "gapminder_all.csv\n",
      "gapminder_gdp_africa.csv\n",
      "gapminder_gdp_americas.csv\n",
      "gapminder_gdp_asia.csv\n",
      "gapminder_gdp_europe.csv\n",
      "gapminder_gdp_oceania.csv\n"
     ]
    }
   ],
   "source": [
    "# define a function that lists all the files in the folder called data\n",
    "\n",
    "import os\n",
    "\n",
    "def read_each_filename(pathname):\n",
    "    for files in os.listdir(pathname):\n",
    "        print(files)\n",
    "   \n",
    "pathname = 'data' # name of path with multiple files\n",
    "read_each_filename(pathname)"
   ]
  },
  {
   "cell_type": "code",
   "execution_count": null,
   "metadata": {
    "collapsed": false
   },
   "outputs": [],
   "source": [
    "# define a function that reads and prints each line of each file in the folder called data\n",
    "\n",
    "import os\n",
    "\n",
    "def read_each_line_of_each_file(pathname): # name of path with multiple files\n",
    "    for files in os.listdir(pathname):\n",
    "        with open(pathname+'/'+files, 'r') as in_fh:\n",
    "            for lines in in_fh:\n",
    "                print(lines)\n",
    "                \n",
    "pathname = 'data' # name of path with multiple files\n",
    "read_each_line_of_each_file(pathname)\n",
    "\n",
    "# Hints:\n",
    "# Options for opening files\n",
    "# option-1: with open(\"{}/{}\".format(pathname, filename)) as in_fh:\n",
    "# option-2: with open('%s/%s' % (pathname, filename)) as in_fh:\n",
    "# option-3: with open(pathname + '/' + filename) as in_fh:\n",
    "# option-4: with open(os.path.join(pathname, filename)) as in_fh:"
   ]
  },
  {
   "cell_type": "code",
   "execution_count": 24,
   "metadata": {
    "collapsed": false
   },
   "outputs": [
    {
     "name": "stdout",
     "output_type": "stream",
     "text": [
      "asia_gdp_per_capita.csv\n",
      "gapminder_gdp_asia.csv\n"
     ]
    }
   ],
   "source": [
    "# Exercise: Go through each filename in the directory 'data'\n",
    "# Print the names of the files that contains the keyword 'asia'\n",
    "\n",
    "def country_files(pathname, country):\n",
    "    for files in os.listdir(pathname):\n",
    "        if 'asia' in files:\n",
    "            print(files)\n",
    "\n",
    "pathname = 'data'\n",
    "country = 'asia'\n",
    "country_files(pathname, country)"
   ]
  },
  {
   "cell_type": "code",
   "execution_count": 25,
   "metadata": {
    "collapsed": true
   },
   "outputs": [],
   "source": [
    "# Open each file containing the keyword 'asia' and print all the entries\n",
    "\n",
    "def read_filename_with_asia(pathname, country):\n",
    "    for files in os.listdir(pathname):\n",
    "        if country in files:\n",
    "            # Print the names of the files that contains the keyword 'asia'\n",
    "            print(files)\n",
    "            # Open each file containing the keyword 'asia' and print all the entries\n",
    "            with open(os.path.join(pathname, files), 'r') as in_fh:\n",
    "                for lines in in_fh:\n",
    "                    # Print entries that starts with gdp information on 'Japan', 'Korea', 'China' and 'Taiwan'\n",
    "                    if lines.startswith('Japan')or lines.startswith('Korea')\\\n",
    "                    or lines.startswith('China')or lines.startswith('Taiwan'):\n",
    "                        print(lines)\n",
    "read_filename_with_asia('data', 'asia')"
   ]
  },
  {
   "cell_type": "markdown",
   "metadata": {},
   "source": [
    "### Examples of importing basic modules.\n",
    "\n",
    "#### Questions\n",
    "- How can I read tabular data?\n",
    "\n",
    "#### Objectives\n",
    "- Import the Pandas library.\n",
    "- Use Pandas to load a simple CSV data set.\n",
    "- Get some basic information about a Pandas DataFrame."
   ]
  },
  {
   "cell_type": "code",
   "execution_count": 26,
   "metadata": {
    "collapsed": false
   },
   "outputs": [],
   "source": [
    "import pandas"
   ]
  },
  {
   "cell_type": "code",
   "execution_count": 36,
   "metadata": {
    "collapsed": false
   },
   "outputs": [
    {
     "data": {
      "text/plain": [
       "(33, 13)"
      ]
     },
     "execution_count": 36,
     "metadata": {},
     "output_type": "execute_result"
    }
   ],
   "source": [
    "# Use Oceania data here\n",
    "\n",
    "df = pandas.read_csv(\"data/gapminder_gdp_asia.csv\") #put data from a file in the dataframe\n",
    "\n",
    "#read header\n",
    "df.head()\n",
    "\n",
    "#read header with 3 lines\n",
    "df.head(n=3)\n",
    "\n",
    "#read tail\n",
    "df.tail()\n",
    "\n",
    "#get the column with the data of 'gdpPercap_1952'\n",
    "df['gdpPercap_1952']\n",
    "\n",
    "#get multiple columns (Hint: pass list of the columns)\n",
    "df[['gdpPercap_1952', 'gdpPercap_1957', 'gdpPercap_1962']]\n",
    "\n",
    "#this can be done by writing the column number as well\n",
    "df[[0]] #one column\n",
    "df[[1,2,3]] #multiple columns\n",
    "\n",
    "#this can be done by generating the column number by range too\n",
    "df[list(range(1,3))] #single square\n",
    "\n",
    "#datatypes in the dataframe\n",
    "df.dtypes\n",
    "\n",
    "#dimention of the dataframe\n",
    "df.shape"
   ]
  },
  {
   "cell_type": "markdown",
   "metadata": {},
   "source": [
    "#### Aside: Namespaces\n",
    "Python uses namespaces a lot, to ensure appropriate separation of functions, attributes, methods etc between modules and objects. When you import an entire module, the functions and classes available within that module are loaded in under the modules namespace - `pandas` in the example above.  \n",
    "It is possible to customise the namespace at the point of import, allowing you to e.g. shorten/abbreviate the module name to save some typing:"
   ]
  },
  {
   "cell_type": "code",
   "execution_count": null,
   "metadata": {
    "collapsed": false
   },
   "outputs": [],
   "source": [
    "import pandas as pd"
   ]
  },
  {
   "cell_type": "markdown",
   "metadata": {},
   "source": [
    "Also, as in the examples above, if you need only a single function from a module, you can import that directly into your main namespace (where you don't need to specify the module before the name of the function):"
   ]
  },
  {
   "cell_type": "code",
   "execution_count": null,
   "metadata": {
    "collapsed": false
   },
   "outputs": [],
   "source": [
    "from pandas import read_csv"
   ]
  },
  {
   "cell_type": "markdown",
   "metadata": {},
   "source": [
    "#### Conventions\n",
    "- You should perform all of your imports at the beginning of your program. This ensures that\n",
    "  - users can easily identify the dependencies of a program, and \n",
    "  - that any lacking dependencies (causing fatal `ImportError` exceptions) are caught early in execution\n",
    "- the shortening of `numpy` to `np` and `pandas` to `pd` are very common, and there are others too - watch out for this when e.g. reading docs and guides/SO answers online."
   ]
  },
  {
   "cell_type": "markdown",
   "metadata": {},
   "source": [
    "### Execises - Importing\n",
    "\n",
    "Use this link to follow further exercises: http://tobyhodges.github.io/python-novice-gapminder/37-reading-tabular/"
   ]
  },
  {
   "cell_type": "code",
   "execution_count": 39,
   "metadata": {
    "collapsed": true
   },
   "outputs": [],
   "source": [
    "# Use index_col to specify that a column’s values should be used as row headings.\n",
    "\n",
    "df1 = pandas.read_csv(\"data/gapminder_gdp_asia.csv\", index_col = 'country')"
   ]
  },
  {
   "cell_type": "code",
   "execution_count": 43,
   "metadata": {
    "collapsed": false
   },
   "outputs": [
    {
     "name": "stdout",
     "output_type": "stream",
     "text": [
      "<class 'pandas.core.frame.DataFrame'>\n",
      "Index: 33 entries, Afghanistan to Yemen Rep.\n",
      "Data columns (total 12 columns):\n",
      "gdpPercap_1952    33 non-null float64\n",
      "gdpPercap_1957    33 non-null float64\n",
      "gdpPercap_1962    33 non-null float64\n",
      "gdpPercap_1967    33 non-null float64\n",
      "gdpPercap_1972    33 non-null float64\n",
      "gdpPercap_1977    33 non-null float64\n",
      "gdpPercap_1982    33 non-null float64\n",
      "gdpPercap_1987    33 non-null float64\n",
      "gdpPercap_1992    33 non-null float64\n",
      "gdpPercap_1997    33 non-null float64\n",
      "gdpPercap_2002    33 non-null float64\n",
      "gdpPercap_2007    33 non-null float64\n",
      "dtypes: float64(12)\n",
      "memory usage: 3.4+ KB\n"
     ]
    }
   ],
   "source": [
    "# Use DataFrame.info to find out more about a dataframe.\n",
    "df1.info()"
   ]
  },
  {
   "cell_type": "code",
   "execution_count": 44,
   "metadata": {
    "collapsed": false
   },
   "outputs": [
    {
     "data": {
      "text/plain": [
       "Index(['gdpPercap_1952', 'gdpPercap_1957', 'gdpPercap_1962', 'gdpPercap_1967',\n",
       "       'gdpPercap_1972', 'gdpPercap_1977', 'gdpPercap_1982', 'gdpPercap_1987',\n",
       "       'gdpPercap_1992', 'gdpPercap_1997', 'gdpPercap_2002', 'gdpPercap_2007'],\n",
       "      dtype='object')"
      ]
     },
     "execution_count": 44,
     "metadata": {},
     "output_type": "execute_result"
    }
   ],
   "source": [
    "# The DataFrame.columns variable stores information about the dataframe’s columns.\n",
    "\n",
    "df1.columns"
   ]
  },
  {
   "cell_type": "code",
   "execution_count": 46,
   "metadata": {
    "collapsed": false
   },
   "outputs": [],
   "source": [
    "# Use DataFrame.T to transpose a dataframe.\n",
    "df1.T"
   ]
  },
  {
   "cell_type": "code",
   "execution_count": 48,
   "metadata": {
    "collapsed": false
   },
   "outputs": [
    {
     "data": {
      "text/html": [
       "<div>\n",
       "<table border=\"1\" class=\"dataframe\">\n",
       "  <thead>\n",
       "    <tr style=\"text-align: right;\">\n",
       "      <th></th>\n",
       "      <th>gdpPercap_1952</th>\n",
       "      <th>gdpPercap_1957</th>\n",
       "      <th>gdpPercap_1962</th>\n",
       "      <th>gdpPercap_1967</th>\n",
       "      <th>gdpPercap_1972</th>\n",
       "      <th>gdpPercap_1977</th>\n",
       "      <th>gdpPercap_1982</th>\n",
       "      <th>gdpPercap_1987</th>\n",
       "      <th>gdpPercap_1992</th>\n",
       "      <th>gdpPercap_1997</th>\n",
       "      <th>gdpPercap_2002</th>\n",
       "      <th>gdpPercap_2007</th>\n",
       "    </tr>\n",
       "  </thead>\n",
       "  <tbody>\n",
       "    <tr>\n",
       "      <th>count</th>\n",
       "      <td>33.000000</td>\n",
       "      <td>33.000000</td>\n",
       "      <td>33.000000</td>\n",
       "      <td>33.000000</td>\n",
       "      <td>33.000000</td>\n",
       "      <td>33.000000</td>\n",
       "      <td>33.000000</td>\n",
       "      <td>33.000000</td>\n",
       "      <td>33.000000</td>\n",
       "      <td>33.000000</td>\n",
       "      <td>33.000000</td>\n",
       "      <td>33.000000</td>\n",
       "    </tr>\n",
       "    <tr>\n",
       "      <th>mean</th>\n",
       "      <td>5195.484004</td>\n",
       "      <td>5787.732940</td>\n",
       "      <td>5729.369625</td>\n",
       "      <td>5971.173374</td>\n",
       "      <td>8187.468699</td>\n",
       "      <td>7791.314020</td>\n",
       "      <td>7434.135157</td>\n",
       "      <td>7608.226508</td>\n",
       "      <td>8639.690248</td>\n",
       "      <td>9834.093295</td>\n",
       "      <td>10174.090397</td>\n",
       "      <td>12473.026870</td>\n",
       "    </tr>\n",
       "    <tr>\n",
       "      <th>std</th>\n",
       "      <td>18634.890865</td>\n",
       "      <td>19506.515959</td>\n",
       "      <td>16415.857196</td>\n",
       "      <td>14062.591362</td>\n",
       "      <td>19087.502918</td>\n",
       "      <td>11815.777923</td>\n",
       "      <td>8701.176499</td>\n",
       "      <td>8090.262765</td>\n",
       "      <td>9727.431088</td>\n",
       "      <td>11094.180481</td>\n",
       "      <td>11150.719203</td>\n",
       "      <td>14154.937343</td>\n",
       "    </tr>\n",
       "    <tr>\n",
       "      <th>min</th>\n",
       "      <td>331.000000</td>\n",
       "      <td>350.000000</td>\n",
       "      <td>388.000000</td>\n",
       "      <td>349.000000</td>\n",
       "      <td>357.000000</td>\n",
       "      <td>371.000000</td>\n",
       "      <td>424.000000</td>\n",
       "      <td>385.000000</td>\n",
       "      <td>347.000000</td>\n",
       "      <td>415.000000</td>\n",
       "      <td>611.000000</td>\n",
       "      <td>944.000000</td>\n",
       "    </tr>\n",
       "    <tr>\n",
       "      <th>25%</th>\n",
       "      <td>749.681655</td>\n",
       "      <td>793.577415</td>\n",
       "      <td>825.623201</td>\n",
       "      <td>836.197138</td>\n",
       "      <td>1049.938981</td>\n",
       "      <td>1175.921193</td>\n",
       "      <td>1443.429832</td>\n",
       "      <td>1704.686583</td>\n",
       "      <td>1785.402016</td>\n",
       "      <td>1902.252100</td>\n",
       "      <td>2092.712441</td>\n",
       "      <td>2452.210407</td>\n",
       "    </tr>\n",
       "    <tr>\n",
       "      <th>50%</th>\n",
       "      <td>1206.947913</td>\n",
       "      <td>1547.944844</td>\n",
       "      <td>1649.552153</td>\n",
       "      <td>2029.228142</td>\n",
       "      <td>2571.423014</td>\n",
       "      <td>3195.484582</td>\n",
       "      <td>4106.525293</td>\n",
       "      <td>4106.492315</td>\n",
       "      <td>3726.063507</td>\n",
       "      <td>3645.379572</td>\n",
       "      <td>4090.925331</td>\n",
       "      <td>4471.061906</td>\n",
       "    </tr>\n",
       "    <tr>\n",
       "      <th>75%</th>\n",
       "      <td>3035.326002</td>\n",
       "      <td>3290.257643</td>\n",
       "      <td>4187.329802</td>\n",
       "      <td>5906.731805</td>\n",
       "      <td>8597.756202</td>\n",
       "      <td>11210.089480</td>\n",
       "      <td>12954.791010</td>\n",
       "      <td>11643.572680</td>\n",
       "      <td>15215.657900</td>\n",
       "      <td>19702.055810</td>\n",
       "      <td>19233.988180</td>\n",
       "      <td>22316.192870</td>\n",
       "    </tr>\n",
       "    <tr>\n",
       "      <th>max</th>\n",
       "      <td>108382.352900</td>\n",
       "      <td>113523.132900</td>\n",
       "      <td>95458.111760</td>\n",
       "      <td>80894.883260</td>\n",
       "      <td>109347.867000</td>\n",
       "      <td>59265.477140</td>\n",
       "      <td>33693.175250</td>\n",
       "      <td>28118.429980</td>\n",
       "      <td>34932.919590</td>\n",
       "      <td>40300.619960</td>\n",
       "      <td>36023.105400</td>\n",
       "      <td>47306.989780</td>\n",
       "    </tr>\n",
       "  </tbody>\n",
       "</table>\n",
       "</div>"
      ],
      "text/plain": [
       "       gdpPercap_1952  gdpPercap_1957  gdpPercap_1962  gdpPercap_1967  \\\n",
       "count       33.000000       33.000000       33.000000       33.000000   \n",
       "mean      5195.484004     5787.732940     5729.369625     5971.173374   \n",
       "std      18634.890865    19506.515959    16415.857196    14062.591362   \n",
       "min        331.000000      350.000000      388.000000      349.000000   \n",
       "25%        749.681655      793.577415      825.623201      836.197138   \n",
       "50%       1206.947913     1547.944844     1649.552153     2029.228142   \n",
       "75%       3035.326002     3290.257643     4187.329802     5906.731805   \n",
       "max     108382.352900   113523.132900    95458.111760    80894.883260   \n",
       "\n",
       "       gdpPercap_1972  gdpPercap_1977  gdpPercap_1982  gdpPercap_1987  \\\n",
       "count       33.000000       33.000000       33.000000       33.000000   \n",
       "mean      8187.468699     7791.314020     7434.135157     7608.226508   \n",
       "std      19087.502918    11815.777923     8701.176499     8090.262765   \n",
       "min        357.000000      371.000000      424.000000      385.000000   \n",
       "25%       1049.938981     1175.921193     1443.429832     1704.686583   \n",
       "50%       2571.423014     3195.484582     4106.525293     4106.492315   \n",
       "75%       8597.756202    11210.089480    12954.791010    11643.572680   \n",
       "max     109347.867000    59265.477140    33693.175250    28118.429980   \n",
       "\n",
       "       gdpPercap_1992  gdpPercap_1997  gdpPercap_2002  gdpPercap_2007  \n",
       "count       33.000000       33.000000       33.000000       33.000000  \n",
       "mean      8639.690248     9834.093295    10174.090397    12473.026870  \n",
       "std       9727.431088    11094.180481    11150.719203    14154.937343  \n",
       "min        347.000000      415.000000      611.000000      944.000000  \n",
       "25%       1785.402016     1902.252100     2092.712441     2452.210407  \n",
       "50%       3726.063507     3645.379572     4090.925331     4471.061906  \n",
       "75%      15215.657900    19702.055810    19233.988180    22316.192870  \n",
       "max      34932.919590    40300.619960    36023.105400    47306.989780  "
      ]
     },
     "execution_count": 48,
     "metadata": {},
     "output_type": "execute_result"
    }
   ],
   "source": [
    "# Use DataFrame.describe to get summary statistics about data.\n",
    "df1.describe()"
   ]
  },
  {
   "cell_type": "markdown",
   "metadata": {},
   "source": [
    "### Reading other data\n",
    "\n",
    "Read the data in `gapminder_gdp_americas.csv` (which should be in the same directory as `gapminder_gdp_oceania.csv`) into a variable called `americas` and display its summary statistics."
   ]
  },
  {
   "cell_type": "code",
   "execution_count": 49,
   "metadata": {
    "collapsed": false
   },
   "outputs": [
    {
     "data": {
      "text/html": [
       "<div>\n",
       "<table border=\"1\" class=\"dataframe\">\n",
       "  <thead>\n",
       "    <tr style=\"text-align: right;\">\n",
       "      <th></th>\n",
       "      <th>gdpPercap_1952</th>\n",
       "      <th>gdpPercap_1957</th>\n",
       "      <th>gdpPercap_1962</th>\n",
       "      <th>gdpPercap_1967</th>\n",
       "      <th>gdpPercap_1972</th>\n",
       "      <th>gdpPercap_1977</th>\n",
       "      <th>gdpPercap_1982</th>\n",
       "      <th>gdpPercap_1987</th>\n",
       "      <th>gdpPercap_1992</th>\n",
       "      <th>gdpPercap_1997</th>\n",
       "      <th>gdpPercap_2002</th>\n",
       "      <th>gdpPercap_2007</th>\n",
       "    </tr>\n",
       "  </thead>\n",
       "  <tbody>\n",
       "    <tr>\n",
       "      <th>count</th>\n",
       "      <td>25.000000</td>\n",
       "      <td>25.000000</td>\n",
       "      <td>25.000000</td>\n",
       "      <td>25.000000</td>\n",
       "      <td>25.000000</td>\n",
       "      <td>25.000000</td>\n",
       "      <td>25.000000</td>\n",
       "      <td>25.000000</td>\n",
       "      <td>25.000000</td>\n",
       "      <td>25.000000</td>\n",
       "      <td>25.000000</td>\n",
       "      <td>25.000000</td>\n",
       "    </tr>\n",
       "    <tr>\n",
       "      <th>mean</th>\n",
       "      <td>4079.062552</td>\n",
       "      <td>4616.043733</td>\n",
       "      <td>4901.541870</td>\n",
       "      <td>5668.253496</td>\n",
       "      <td>6491.334139</td>\n",
       "      <td>7352.007126</td>\n",
       "      <td>7506.737088</td>\n",
       "      <td>7793.400261</td>\n",
       "      <td>8044.934406</td>\n",
       "      <td>8889.300863</td>\n",
       "      <td>9287.677107</td>\n",
       "      <td>11003.031625</td>\n",
       "    </tr>\n",
       "    <tr>\n",
       "      <th>std</th>\n",
       "      <td>3001.727522</td>\n",
       "      <td>3312.381083</td>\n",
       "      <td>3421.740569</td>\n",
       "      <td>4160.885560</td>\n",
       "      <td>4754.404329</td>\n",
       "      <td>5355.602518</td>\n",
       "      <td>5530.490471</td>\n",
       "      <td>6665.039509</td>\n",
       "      <td>7047.089191</td>\n",
       "      <td>7874.225145</td>\n",
       "      <td>8895.817785</td>\n",
       "      <td>9713.209302</td>\n",
       "    </tr>\n",
       "    <tr>\n",
       "      <th>min</th>\n",
       "      <td>1397.717137</td>\n",
       "      <td>1544.402995</td>\n",
       "      <td>1662.137359</td>\n",
       "      <td>1452.057666</td>\n",
       "      <td>1654.456946</td>\n",
       "      <td>1874.298931</td>\n",
       "      <td>2011.159549</td>\n",
       "      <td>1823.015995</td>\n",
       "      <td>1456.309517</td>\n",
       "      <td>1341.726931</td>\n",
       "      <td>1270.364932</td>\n",
       "      <td>1201.637154</td>\n",
       "    </tr>\n",
       "    <tr>\n",
       "      <th>25%</th>\n",
       "      <td>2428.237769</td>\n",
       "      <td>2487.365989</td>\n",
       "      <td>2750.364446</td>\n",
       "      <td>3242.531147</td>\n",
       "      <td>4031.408271</td>\n",
       "      <td>4756.763836</td>\n",
       "      <td>4258.503604</td>\n",
       "      <td>4140.442097</td>\n",
       "      <td>4439.450840</td>\n",
       "      <td>4684.313807</td>\n",
       "      <td>4858.347495</td>\n",
       "      <td>5728.353514</td>\n",
       "    </tr>\n",
       "    <tr>\n",
       "      <th>50%</th>\n",
       "      <td>3048.302900</td>\n",
       "      <td>3780.546651</td>\n",
       "      <td>4086.114078</td>\n",
       "      <td>4643.393534</td>\n",
       "      <td>5305.445256</td>\n",
       "      <td>6281.290855</td>\n",
       "      <td>6434.501797</td>\n",
       "      <td>6360.943444</td>\n",
       "      <td>6618.743050</td>\n",
       "      <td>7113.692252</td>\n",
       "      <td>6994.774861</td>\n",
       "      <td>8948.102923</td>\n",
       "    </tr>\n",
       "    <tr>\n",
       "      <th>75%</th>\n",
       "      <td>3939.978789</td>\n",
       "      <td>4756.525781</td>\n",
       "      <td>5180.755910</td>\n",
       "      <td>5788.093330</td>\n",
       "      <td>6809.406690</td>\n",
       "      <td>7674.929108</td>\n",
       "      <td>8997.897412</td>\n",
       "      <td>7807.095818</td>\n",
       "      <td>8137.004775</td>\n",
       "      <td>9767.297530</td>\n",
       "      <td>8797.640716</td>\n",
       "      <td>11977.574960</td>\n",
       "    </tr>\n",
       "    <tr>\n",
       "      <th>max</th>\n",
       "      <td>13990.482080</td>\n",
       "      <td>14847.127120</td>\n",
       "      <td>16173.145860</td>\n",
       "      <td>19530.365570</td>\n",
       "      <td>21806.035940</td>\n",
       "      <td>24072.632130</td>\n",
       "      <td>25009.559140</td>\n",
       "      <td>29884.350410</td>\n",
       "      <td>32003.932240</td>\n",
       "      <td>35767.433030</td>\n",
       "      <td>39097.099550</td>\n",
       "      <td>42951.653090</td>\n",
       "    </tr>\n",
       "  </tbody>\n",
       "</table>\n",
       "</div>"
      ],
      "text/plain": [
       "       gdpPercap_1952  gdpPercap_1957  gdpPercap_1962  gdpPercap_1967  \\\n",
       "count       25.000000       25.000000       25.000000       25.000000   \n",
       "mean      4079.062552     4616.043733     4901.541870     5668.253496   \n",
       "std       3001.727522     3312.381083     3421.740569     4160.885560   \n",
       "min       1397.717137     1544.402995     1662.137359     1452.057666   \n",
       "25%       2428.237769     2487.365989     2750.364446     3242.531147   \n",
       "50%       3048.302900     3780.546651     4086.114078     4643.393534   \n",
       "75%       3939.978789     4756.525781     5180.755910     5788.093330   \n",
       "max      13990.482080    14847.127120    16173.145860    19530.365570   \n",
       "\n",
       "       gdpPercap_1972  gdpPercap_1977  gdpPercap_1982  gdpPercap_1987  \\\n",
       "count       25.000000       25.000000       25.000000       25.000000   \n",
       "mean      6491.334139     7352.007126     7506.737088     7793.400261   \n",
       "std       4754.404329     5355.602518     5530.490471     6665.039509   \n",
       "min       1654.456946     1874.298931     2011.159549     1823.015995   \n",
       "25%       4031.408271     4756.763836     4258.503604     4140.442097   \n",
       "50%       5305.445256     6281.290855     6434.501797     6360.943444   \n",
       "75%       6809.406690     7674.929108     8997.897412     7807.095818   \n",
       "max      21806.035940    24072.632130    25009.559140    29884.350410   \n",
       "\n",
       "       gdpPercap_1992  gdpPercap_1997  gdpPercap_2002  gdpPercap_2007  \n",
       "count       25.000000       25.000000       25.000000       25.000000  \n",
       "mean      8044.934406     8889.300863     9287.677107    11003.031625  \n",
       "std       7047.089191     7874.225145     8895.817785     9713.209302  \n",
       "min       1456.309517     1341.726931     1270.364932     1201.637154  \n",
       "25%       4439.450840     4684.313807     4858.347495     5728.353514  \n",
       "50%       6618.743050     7113.692252     6994.774861     8948.102923  \n",
       "75%       8137.004775     9767.297530     8797.640716    11977.574960  \n",
       "max      32003.932240    35767.433030    39097.099550    42951.653090  "
      ]
     },
     "execution_count": 49,
     "metadata": {},
     "output_type": "execute_result"
    }
   ],
   "source": [
    "americas = pandas.read_csv(\"data/gapminder_gdp_americas.csv\", index_col = 'country')\n",
    "americas.describe()"
   ]
  },
  {
   "cell_type": "markdown",
   "metadata": {},
   "source": [
    "### Inspecting Data\n",
    "\n",
    "After reading the data for the Americas, use `help(americas.head)` and `help(americas.tail)` to find out what `DataFrame.head` and `DataFrame.tail` do.\n",
    "\n",
    "What method call will display the first three rows of this data?\n",
    "What method call will display the last three columns of this data? (Hint: you may need to change your view of the data.)"
   ]
  },
  {
   "cell_type": "code",
   "execution_count": null,
   "metadata": {
    "collapsed": true
   },
   "outputs": [],
   "source": [
    "help(americas.head)\n",
    "help(americas.tail)\n",
    "\n",
    "americas.head(n=3)\n",
    "americas.tail(n=3)"
   ]
  },
  {
   "cell_type": "markdown",
   "metadata": {},
   "source": [
    "### Reading Files in Other Directories\n",
    "\n",
    "The data for your current project is stored in a file called `microbes.csv`, which is located in a folder called `field_data`. You are doing analysis in a notebook called `analysis.ipynb` in a sibling folder called `thesis`:\n",
    "\n",
    "```\n",
    "your_home_directory\n",
    "+-- field_data/\n",
    "|   +-- microbes.csv\n",
    "+-- thesis/\n",
    "    +-- analysis.ipynb\n",
    "```\n",
    "\n",
    "What value(s) should you pass to `read_csv` to read `microbes.csv` in `analysis.ipynb`?"
   ]
  },
  {
   "cell_type": "code",
   "execution_count": null,
   "metadata": {
    "collapsed": true
   },
   "outputs": [],
   "source": [
    "\"../field_data/microbes.csv\""
   ]
  },
  {
   "cell_type": "markdown",
   "metadata": {},
   "source": [
    "### Writing data\n",
    "\n",
    "As well as the `read_csv` function for reading data from a file, Pandas provides a `to_csv` function to write dataframes to files. Applying what you’ve learned about reading from files, write one of your dataframes to a file called `processed.csv`. You can use help to get information on how to use `to_csv`."
   ]
  },
  {
   "cell_type": "code",
   "execution_count": 51,
   "metadata": {
    "collapsed": true
   },
   "outputs": [],
   "source": [
    "americas.T.describe().to_csv(\"americas_data.csv\")"
   ]
  },
  {
   "cell_type": "code",
   "execution_count": 53,
   "metadata": {
    "collapsed": false
   },
   "outputs": [
    {
     "name": "stdout",
     "output_type": "stream",
     "text": [
      "1-variables-and-data-structures.ipynb\n",
      "2-flow-control.ipynb\n",
      "3_1-functions-and-modules.ipynb\n",
      "3_2-pandas-dataframe.ipynb\n",
      "3_3-plotting.ipynb\n",
      "4-styling-and-flowchart-exercises.ipynb\n",
      "americas_data.csv\n",
      "data\n",
      "images\n",
      ",Argentina,Bolivia,Brazil,Canada,Chile,Colombia,Costa Rica,Cuba,Dominican Republic,Ecuador,El Salvador,Guatemala,Haiti,Honduras,Jamaica,Mexico,Nicaragua,Panama,Paraguay,Peru,Puerto Rico,Trinidad and Tobago,United States,Uruguay,Venezuela\n",
      "count,13.0,13.0,13.0,13.0,13.0,13.0,13.0,13.0,13.0,13.0,13.0,13.0,13.0,13.0,13.0,13.0,13.0,13.0,13.0,13.0,13.0,13.0,13.0,13.0,13.0\n",
      "unique,13.0,13.0,13.0,13.0,13.0,13.0,13.0,13.0,13.0,13.0,13.0,13.0,13.0,13.0,13.0,13.0,13.0,13.0,13.0,13.0,13.0,13.0,13.0,13.0,13.0\n",
      "top,10079.026740000001,3326.143191,7807.095818000001,36319.235010000004,4315.6227229999995,7006.580419,5118.146939,5180.75591,3614.101285,7103.702595000001,3421.523218,4031.4082710000002,1823.015995,3548.3308460000003,5246.107524,3478.125529,2749.320965,7356.031934000001,3998.875695,4446.380924,10330.98915,9119.528607,14847.12712,7452.398969,8605.047831\n",
      "freq,1.0,1.0,1.0,1.0,1.0,1.0,1.0,1.0,1.0,1.0,1.0,1.0,1.0,1.0,1.0,1.0,1.0,1.0,1.0,1.0,1.0,1.0,1.0,1.0,1.0\n"
     ]
    }
   ],
   "source": [
    "%%bash\n",
    "ls\n",
    "cat americas_data.csv"
   ]
  },
  {
   "cell_type": "markdown",
   "metadata": {},
   "source": [
    "#### Aside: Your Own Modules\n",
    "Whenever you write some python code and save it as a script, with the `.py` file extension, you are creating your own module. If you define functions within that module, you can load them into other scripts and sessions."
   ]
  },
  {
   "cell_type": "markdown",
   "metadata": {},
   "source": [
    "### Some Interesting Module Libraries to Investigate\n",
    "- os\n",
    "- sys\n",
    "- shutil\n",
    "- random\n",
    "- collections\n",
    "- math\n",
    "- argparse\n",
    "- time\n",
    "- datetime\n",
    "- numpy\n",
    "- scipy\n",
    "- matplotlib\n",
    "- pandas\n",
    "- scikit-learn\n",
    "- requests\n",
    "- biopython\n",
    "- openpyxl"
   ]
  },
  {
   "cell_type": "code",
   "execution_count": null,
   "metadata": {
    "collapsed": true
   },
   "outputs": [],
   "source": []
  }
 ],
 "metadata": {
  "kernelspec": {
   "display_name": "Python 3",
   "language": "python",
   "name": "python3"
  },
  "language_info": {
   "codemirror_mode": {
    "name": "ipython",
    "version": 3
   },
   "file_extension": ".py",
   "mimetype": "text/x-python",
   "name": "python",
   "nbconvert_exporter": "python",
   "pygments_lexer": "ipython3",
   "version": "3.6.0"
  }
 },
 "nbformat": 4,
 "nbformat_minor": 0
}
